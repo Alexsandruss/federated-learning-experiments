{
 "cells": [
  {
   "cell_type": "markdown",
   "id": "489ccd39",
   "metadata": {},
   "source": [
    "## Federation"
   ]
  },
  {
   "cell_type": "code",
   "execution_count": null,
   "id": "64b43cef",
   "metadata": {},
   "outputs": [],
   "source": [
    "# Create a federation\n",
    "from openfl.interface.interactive_api.federation import Federation\n",
    "\n",
    "# please use the same identificator that was used in signed certificate\n",
    "client_id = 'researcher'\n",
    "director_node_fqdn = 'openfl-director'\n",
    "director_port = 4444\n",
    "\n",
    "federation = Federation(\n",
    "    client_id=client_id,\n",
    "    director_node_fqdn=director_node_fqdn,\n",
    "    director_port=director_port,\n",
    "    tls=True, cert_chain='cert/root_ca.crt',\n",
    "    api_cert='cert/researcher.crt', api_private_key='cert/researcher.key'\n",
    ")"
   ]
  },
  {
   "cell_type": "code",
   "execution_count": null,
   "id": "66973848",
   "metadata": {},
   "outputs": [],
   "source": [
    "shard_registry = federation.get_shard_registry()\n",
    "shard_registry"
   ]
  },
  {
   "cell_type": "markdown",
   "id": "ee6a9d57",
   "metadata": {},
   "source": [
    "## Model"
   ]
  },
  {
   "cell_type": "code",
   "execution_count": null,
   "id": "026b3448",
   "metadata": {},
   "outputs": [],
   "source": [
    "from typing import List, Union\n",
    "import numpy as np\n",
    "from sklearn.linear_model import SGDClassifier\n",
    "from sklearn.metrics import log_loss\n",
    "import random\n",
    "\n",
    "class SGDCls:\n",
    "    def __init__(self, n_features: int, n_classes: int) -> None:\n",
    "        self.n_features = n_features\n",
    "        self.n_classes = n_classes\n",
    "        if n_classes == 2:\n",
    "            # TODO: implement binary cls.\n",
    "            pass\n",
    "        else:\n",
    "            self.weights = np.ones((n_classes, n_features + 1))\n",
    "        self.estimator = SGDClassifier(loss='log')\n",
    "        \n",
    "    def predict(self, x: np.ndarray) -> float:\n",
    "        return self.estimator.predict(x)\n",
    "    \n",
    "    def logloss(self, x: np.ndarray, y: np.ndarray) -> float:\n",
    "        return log_loss(y, self.estimator.predict_proba(x))\n",
    "    \n",
    "    def fit(self, x: np.ndarray, y: np.ndarray, n_epochs: int) -> None:\n",
    "        self.coef_ = self.weights[:,:self.n_features]\n",
    "        self.intercept_ = self.weights[:,self.n_features]\n",
    "        for i in range(n_epochs):\n",
    "            self.estimator.partial_fit(x, y, classes=np.array(list(range(self.n_classes))))\n",
    "        self.estimator.densify()\n",
    "        self.weights = np.concatenate((self.coef_, self.intercept_.reshape(\n",
    "            self.intercept_.shape[0], 1)), axis=1)\n",
    "        "
   ]
  },
  {
   "cell_type": "markdown",
   "id": "a03a1d8c",
   "metadata": {},
   "source": [
    "## Data"
   ]
  },
  {
   "cell_type": "code",
   "execution_count": null,
   "id": "b2743fa5",
   "metadata": {},
   "outputs": [],
   "source": [
    "from openfl.interface.interactive_api.experiment import TaskInterface, DataInterface, ModelInterface, FLExperiment\n",
    "\n",
    "class SGDClsDataSet(DataInterface):\n",
    "    def __init__(self, **kwargs):\n",
    "        \"\"\"Initialize DataLoader.\"\"\"\n",
    "        self.kwargs = kwargs\n",
    "        pass\n",
    "\n",
    "    @property\n",
    "    def shard_descriptor(self):\n",
    "        \"\"\"Return shard descriptor.\"\"\"\n",
    "        return self._shard_descriptor\n",
    "    \n",
    "    @shard_descriptor.setter\n",
    "    def shard_descriptor(self, shard_descriptor):\n",
    "        \"\"\"\n",
    "        Describe per-collaborator procedures or sharding.\n",
    "\n",
    "        This method will be called during a collaborator initialization.\n",
    "        Local shard_descriptor  will be set by Envoy.\n",
    "        \"\"\"\n",
    "        self._shard_descriptor = shard_descriptor\n",
    "        self.train_set = shard_descriptor.get_dataset(\"train\")\n",
    "        self.val_set = shard_descriptor.get_dataset(\"val\")\n",
    "\n",
    "    def get_train_loader(self, **kwargs):\n",
    "        \"\"\"Output of this method will be provided to tasks with optimizer in contract.\"\"\"\n",
    "        return self.train_set\n",
    "\n",
    "    def get_valid_loader(self, **kwargs):\n",
    "        \"\"\"Output of this method will be provided to tasks without optimizer in contract.\"\"\"\n",
    "        return self.val_set\n",
    "\n",
    "    def get_train_data_size(self):\n",
    "        \"\"\"Information for aggregation.\"\"\"\n",
    "        return len(self.train_set)\n",
    "\n",
    "    def get_valid_data_size(self):\n",
    "        \"\"\"Information for aggregation.\"\"\"\n",
    "        return len(self.val_set)\n",
    "    \n",
    "    \n",
    "sgdcls_dataset = SGDClsDataSet()"
   ]
  },
  {
   "cell_type": "markdown",
   "id": "4c0c1a42",
   "metadata": {},
   "source": [
    "## Model Interface"
   ]
  },
  {
   "cell_type": "code",
   "execution_count": null,
   "id": "efda9e12",
   "metadata": {},
   "outputs": [],
   "source": [
    "framework_adapter = 'custom_adapter.CustomFrameworkAdapter'\n",
    "fed_model = SGDCls(4, 3)\n",
    "MI = ModelInterface(model=fed_model, optimizer=None, framework_plugin=framework_adapter)"
   ]
  },
  {
   "cell_type": "markdown",
   "id": "90b10ffa",
   "metadata": {},
   "source": [
    "## Tasks"
   ]
  },
  {
   "cell_type": "code",
   "execution_count": null,
   "id": "de708be9",
   "metadata": {},
   "outputs": [],
   "source": [
    "TI = TaskInterface()\n",
    "\n",
    "@TI.add_kwargs(**{'epochs': 10})\n",
    "@TI.register_fl_task(model='my_model', data_loader='train_data', \\\n",
    "                     device='device', optimizer='optimizer')\n",
    "def train(my_model, train_data, optimizer, device, epochs):\n",
    "    x, y = train_data[:,:-1], train_data[:,-1].astype('int')\n",
    "    my_model.fit(x, y, epochs)\n",
    "    return {'train_logloss': my_model.logloss(x, y)}\n",
    "\n",
    "@TI.register_fl_task(model='my_model', data_loader='val_data', device='device')\n",
    "def validate(my_model, val_data, device):\n",
    "    x, y = val_data[:,:-1], val_data[:,-1].astype('int')\n",
    "    return {'validation_logloss': my_model.logloss(x, y)}"
   ]
  },
  {
   "cell_type": "markdown",
   "id": "7d7f33f1",
   "metadata": {},
   "source": [
    "## Run"
   ]
  },
  {
   "cell_type": "code",
   "execution_count": null,
   "id": "770547f0",
   "metadata": {},
   "outputs": [],
   "source": [
    "experiment_name = 'sgd_classification_experiment_0'\n",
    "fl_experiment = FLExperiment(federation=federation, experiment_name=experiment_name)"
   ]
  },
  {
   "cell_type": "code",
   "execution_count": null,
   "id": "6de9db23",
   "metadata": {},
   "outputs": [],
   "source": [
    "fl_experiment.start(model_provider=MI, \n",
    "                    task_keeper=TI,\n",
    "                    data_loader=sgdcls_dataset,\n",
    "                    rounds_to_train=10)"
   ]
  },
  {
   "cell_type": "code",
   "execution_count": null,
   "id": "3b1e971d",
   "metadata": {
    "scrolled": false
   },
   "outputs": [],
   "source": [
    "fl_experiment.stream_metrics()"
   ]
  },
  {
   "cell_type": "code",
   "execution_count": null,
   "id": "f6080f4c",
   "metadata": {},
   "outputs": [],
   "source": [
    "%%script /bin/bash --bg\n",
    "tensorboard --host $(hostname --all-fqdns | awk '{print $1}') --logdir logs"
   ]
  },
  {
   "cell_type": "code",
   "execution_count": null,
   "id": "86c8545e",
   "metadata": {},
   "outputs": [],
   "source": [
    "!kill $(pidof $(which python) | awk '{print $1}')"
   ]
  },
  {
   "cell_type": "code",
   "execution_count": null,
   "id": "a1502b3c",
   "metadata": {},
   "outputs": [],
   "source": []
  }
 ],
 "metadata": {
  "kernelspec": {
   "display_name": "Python 3 (ipykernel)",
   "language": "python",
   "name": "python3"
  },
  "language_info": {
   "codemirror_mode": {
    "name": "ipython",
    "version": 3
   },
   "file_extension": ".py",
   "mimetype": "text/x-python",
   "name": "python",
   "nbconvert_exporter": "python",
   "pygments_lexer": "ipython3",
   "version": "3.9.7"
  }
 },
 "nbformat": 4,
 "nbformat_minor": 5
}
